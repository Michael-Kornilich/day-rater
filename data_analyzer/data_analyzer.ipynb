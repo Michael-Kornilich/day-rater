{
 "cells": [
  {
   "cell_type": "code",
   "execution_count": 1,
   "id": "c531d5ab-e23c-44b3-9101-9304f2950dbc",
   "metadata": {},
   "outputs": [],
   "source": [
    "import pandas as pd\n",
    "import numpy as np\n",
    "import matplotlib.pyplot as plt\n",
    "import warnings"
   ]
  },
  {
   "cell_type": "markdown",
   "id": "1c26e64f-1147-45d3-83eb-784a6a521ecc",
   "metadata": {},
   "source": [
    "**TODO**\n",
    "* Make tables pretty\n",
    "* Figure out how and where to output data\n",
    "* Purge irrelevant weather data\n",
    "* Streamline the process, wrap it into async fastapi + docker"
   ]
  },
  {
   "cell_type": "markdown",
   "id": "f1abea4d-4c4a-41c5-b9e9-1683aaddb3ff",
   "metadata": {},
   "source": [
    "### Analysis itself\n",
    "\n",
    "**Descriptive statistics**\n",
    "* Mean, median rating\n",
    "* Std. deviations of the rating\n",
    "* Box plot of ratings\n",
    "* Mean rating by the day (with $95\\%$ confidence interval)\n",
    "* ECDF for the rantings\n",
    "* EWMA (+ raw points) over the whole observation time ($\\alpha = 0.1$)\n",
    "* (Spearman) correlation for ranking and weather conditions\n",
    "* Figure out correlational (inflationary) relationships of the weather conditions\n",
    "\n",
    "**Inductive statistics**\n",
    "* Inference of distribution parameters for the rankings (assume gamma distibution)\n",
    "* General additive model:\n",
    "    * Fitted with `scipy.curve_fit`\n",
    "    * Model of the form: $rating \\sim \\beta_0 + \\sum_{i=1}^{n} f_i(weather~factor_i) + \\varepsilon$\n",
    "    * (With $95\\%$ confidence interval of the prediction)"
   ]
  },
  {
   "cell_type": "markdown",
   "id": "a5125205-f954-4591-a7c4-5cd858f9d958",
   "metadata": {
    "jp-MarkdownHeadingCollapsed": true
   },
   "source": [
    "### Import"
   ]
  },
  {
   "cell_type": "code",
   "execution_count": 2,
   "id": "b2438e14-2fa0-44f7-bd67-067c7dd0d075",
   "metadata": {},
   "outputs": [],
   "source": [
    "sunrise_set = pd.read_csv(\n",
    "    \"daily_data.csv\",\n",
    "    index_col=\"date\",\n",
    "    parse_dates=True\n",
    ").drop(columns=\"Unnamed: 0\").dropna(axis=\"index\",how=\"any\")\n",
    "\n",
    "hourly_data = pd.read_csv(\n",
    "    \"hourly_data.csv\",\n",
    "    index_col=\"date\",\n",
    "    parse_dates=True\n",
    ").drop(columns=\"Unnamed: 0\").dropna(axis=\"index\",how=\"any\")"
   ]
  },
  {
   "cell_type": "code",
   "execution_count": 3,
   "id": "408dee30-e2f8-4e73-8eb7-5bf80de6f715",
   "metadata": {},
   "outputs": [
    {
     "data": {
      "text/html": [
       "<div>\n",
       "<style scoped>\n",
       "    .dataframe tbody tr th:only-of-type {\n",
       "        vertical-align: middle;\n",
       "    }\n",
       "\n",
       "    .dataframe tbody tr th {\n",
       "        vertical-align: top;\n",
       "    }\n",
       "\n",
       "    .dataframe thead th {\n",
       "        text-align: right;\n",
       "    }\n",
       "</style>\n",
       "<table border=\"1\" class=\"dataframe\">\n",
       "  <thead>\n",
       "    <tr style=\"text-align: right;\">\n",
       "      <th></th>\n",
       "      <th>sunrise</th>\n",
       "      <th>sunset</th>\n",
       "    </tr>\n",
       "    <tr>\n",
       "      <th>date</th>\n",
       "      <th></th>\n",
       "      <th></th>\n",
       "    </tr>\n",
       "  </thead>\n",
       "  <tbody>\n",
       "    <tr>\n",
       "      <th>2025-04-07 00:00:00+00:00</th>\n",
       "      <td>2025-04-07 06:39:03</td>\n",
       "      <td>2025-04-07 19:52:24</td>\n",
       "    </tr>\n",
       "    <tr>\n",
       "      <th>2025-04-08 00:00:00+00:00</th>\n",
       "      <td>2025-04-08 06:37:01</td>\n",
       "      <td>2025-04-08 19:53:51</td>\n",
       "    </tr>\n",
       "    <tr>\n",
       "      <th>2025-04-09 00:00:00+00:00</th>\n",
       "      <td>2025-04-09 06:35:01</td>\n",
       "      <td>2025-04-09 19:55:18</td>\n",
       "    </tr>\n",
       "  </tbody>\n",
       "</table>\n",
       "</div>"
      ],
      "text/plain": [
       "                                      sunrise              sunset\n",
       "date                                                             \n",
       "2025-04-07 00:00:00+00:00 2025-04-07 06:39:03 2025-04-07 19:52:24\n",
       "2025-04-08 00:00:00+00:00 2025-04-08 06:37:01 2025-04-08 19:53:51\n",
       "2025-04-09 00:00:00+00:00 2025-04-09 06:35:01 2025-04-09 19:55:18"
      ]
     },
     "execution_count": 3,
     "metadata": {},
     "output_type": "execute_result"
    }
   ],
   "source": [
    "from datetime import datetime\n",
    "sunrise_set.index = sunrise_set.index + pd.DateOffset(hours=2)\n",
    "sunrise_set = sunrise_set.map(datetime.fromtimestamp)\n",
    "sunrise_set.head(3)"
   ]
  },
  {
   "cell_type": "code",
   "execution_count": 4,
   "id": "2ca748ae-c6b5-4589-b01d-29b3e770b03e",
   "metadata": {},
   "outputs": [
    {
     "data": {
      "text/html": [
       "<div>\n",
       "<style scoped>\n",
       "    .dataframe tbody tr th:only-of-type {\n",
       "        vertical-align: middle;\n",
       "    }\n",
       "\n",
       "    .dataframe tbody tr th {\n",
       "        vertical-align: top;\n",
       "    }\n",
       "\n",
       "    .dataframe thead th {\n",
       "        text-align: right;\n",
       "    }\n",
       "</style>\n",
       "<table border=\"1\" class=\"dataframe\">\n",
       "  <thead>\n",
       "    <tr style=\"text-align: right;\">\n",
       "      <th></th>\n",
       "      <th>temperature_2m</th>\n",
       "      <th>relative_humidity_2m</th>\n",
       "      <th>apparent_temperature</th>\n",
       "      <th>precipitation_probability</th>\n",
       "      <th>rain</th>\n",
       "      <th>showers</th>\n",
       "      <th>snowfall</th>\n",
       "      <th>cloud_cover</th>\n",
       "      <th>wind_speed_10m</th>\n",
       "      <th>surface_pressure</th>\n",
       "    </tr>\n",
       "    <tr>\n",
       "      <th>date</th>\n",
       "      <th></th>\n",
       "      <th></th>\n",
       "      <th></th>\n",
       "      <th></th>\n",
       "      <th></th>\n",
       "      <th></th>\n",
       "      <th></th>\n",
       "      <th></th>\n",
       "      <th></th>\n",
       "      <th></th>\n",
       "    </tr>\n",
       "  </thead>\n",
       "  <tbody>\n",
       "    <tr>\n",
       "      <th>2025-04-24 00:00:00+00:00</th>\n",
       "      <td>10.122</td>\n",
       "      <td>79.083333</td>\n",
       "      <td>7.436648</td>\n",
       "      <td>36.041667</td>\n",
       "      <td>0.045833</td>\n",
       "      <td>0.087500</td>\n",
       "      <td>0.0</td>\n",
       "      <td>98.291667</td>\n",
       "      <td>12.322425</td>\n",
       "      <td>954.604186</td>\n",
       "    </tr>\n",
       "    <tr>\n",
       "      <th>2025-04-25 00:00:00+00:00</th>\n",
       "      <td>9.122</td>\n",
       "      <td>87.708333</td>\n",
       "      <td>7.116293</td>\n",
       "      <td>57.583333</td>\n",
       "      <td>0.033333</td>\n",
       "      <td>0.120833</td>\n",
       "      <td>0.0</td>\n",
       "      <td>98.666667</td>\n",
       "      <td>9.130855</td>\n",
       "      <td>955.840609</td>\n",
       "    </tr>\n",
       "    <tr>\n",
       "      <th>2025-04-26 00:00:00+00:00</th>\n",
       "      <td>10.397</td>\n",
       "      <td>77.916667</td>\n",
       "      <td>7.351045</td>\n",
       "      <td>15.541667</td>\n",
       "      <td>0.004167</td>\n",
       "      <td>0.012500</td>\n",
       "      <td>0.0</td>\n",
       "      <td>100.000000</td>\n",
       "      <td>14.697837</td>\n",
       "      <td>956.969212</td>\n",
       "    </tr>\n",
       "  </tbody>\n",
       "</table>\n",
       "</div>"
      ],
      "text/plain": [
       "                           temperature_2m  relative_humidity_2m  \\\n",
       "date                                                              \n",
       "2025-04-24 00:00:00+00:00          10.122             79.083333   \n",
       "2025-04-25 00:00:00+00:00           9.122             87.708333   \n",
       "2025-04-26 00:00:00+00:00          10.397             77.916667   \n",
       "\n",
       "                           apparent_temperature  precipitation_probability  \\\n",
       "date                                                                         \n",
       "2025-04-24 00:00:00+00:00              7.436648                  36.041667   \n",
       "2025-04-25 00:00:00+00:00              7.116293                  57.583333   \n",
       "2025-04-26 00:00:00+00:00              7.351045                  15.541667   \n",
       "\n",
       "                               rain   showers  snowfall  cloud_cover  \\\n",
       "date                                                                   \n",
       "2025-04-24 00:00:00+00:00  0.045833  0.087500       0.0    98.291667   \n",
       "2025-04-25 00:00:00+00:00  0.033333  0.120833       0.0    98.666667   \n",
       "2025-04-26 00:00:00+00:00  0.004167  0.012500       0.0   100.000000   \n",
       "\n",
       "                           wind_speed_10m  surface_pressure  \n",
       "date                                                         \n",
       "2025-04-24 00:00:00+00:00       12.322425        954.604186  \n",
       "2025-04-25 00:00:00+00:00        9.130855        955.840609  \n",
       "2025-04-26 00:00:00+00:00       14.697837        956.969212  "
      ]
     },
     "execution_count": 4,
     "metadata": {},
     "output_type": "execute_result"
    }
   ],
   "source": [
    "daily_data = hourly_data.resample(\"d\").agg(\"mean\")\n",
    "daily_data.head(3)"
   ]
  },
  {
   "cell_type": "code",
   "execution_count": 5,
   "id": "bbcb9fce-a091-48eb-bdf6-1ca186bc4e67",
   "metadata": {},
   "outputs": [],
   "source": [
    "db = pd.concat([sunrise_set, daily_data],axis=\"columns\").dropna(axis=\"index\",thresh=5)"
   ]
  },
  {
   "cell_type": "code",
   "execution_count": 6,
   "id": "c3fbd108-6db9-45f1-8cd0-2e180c786be7",
   "metadata": {},
   "outputs": [
    {
     "data": {
      "text/plain": [
       "array([ 3.7,  2.8,  6.1,  3.9,  5.9,  9.3,  6.6,  6.9,  7.5,  6.9,  4.7,\n",
       "        9.6,  6.7,  4.4,  6.3,  6.7,  4.4,  4.6,  7.4,  3.4,  5.7,  9.7,\n",
       "        6.6,  7.8, 10. ,  7.1,  8.7,  8.1,  8.7,  5.5,  7.7,  2.7,  6.1,\n",
       "        4. ,  7.2,  5.5, 10. ,  7.2,  4.5,  2.2,  8.5,  9.9,  7.3,  4. ,\n",
       "        7.2,  4. ,  8.6, 10. ,  6.4,  5.5,  9.7,  6.3,  4.4,  7.4,  5.9,\n",
       "        9. ,  4.3,  3.3,  4.4,  8.1,  3.9,  5.6,  5.5,  5.2,  5.6,  8. ,\n",
       "        6.3,  4.6,  7.3,  6.5, 10. ,  8.1,  7.4,  8.8,  3.5,  6.4,  3.5,\n",
       "        4.4,  4.6,  4.7,  6.1,  5. ])"
      ]
     },
     "execution_count": 6,
     "metadata": {},
     "output_type": "execute_result"
    }
   ],
   "source": [
    "# shape = 3\n",
    "# scale = 1\n",
    "# mean = shape * scale = 7\n",
    "arr = np.random.gamma(shape=7,scale=1,size=len(db)).round(1)\n",
    "ranks = np.where(arr > 10, 10, arr)\n",
    "ranks"
   ]
  },
  {
   "cell_type": "code",
   "execution_count": 7,
   "id": "2c05ed85-51c4-458f-ad67-f1881207d47f",
   "metadata": {},
   "outputs": [
    {
     "data": {
      "text/html": [
       "<div>\n",
       "<style scoped>\n",
       "    .dataframe tbody tr th:only-of-type {\n",
       "        vertical-align: middle;\n",
       "    }\n",
       "\n",
       "    .dataframe tbody tr th {\n",
       "        vertical-align: top;\n",
       "    }\n",
       "\n",
       "    .dataframe thead th {\n",
       "        text-align: right;\n",
       "    }\n",
       "</style>\n",
       "<table border=\"1\" class=\"dataframe\">\n",
       "  <thead>\n",
       "    <tr style=\"text-align: right;\">\n",
       "      <th></th>\n",
       "      <th>sunrise</th>\n",
       "      <th>sunset</th>\n",
       "      <th>temperature_2m</th>\n",
       "      <th>relative_humidity_2m</th>\n",
       "      <th>apparent_temperature</th>\n",
       "      <th>precipitation_probability</th>\n",
       "      <th>rain</th>\n",
       "      <th>showers</th>\n",
       "      <th>snowfall</th>\n",
       "      <th>cloud_cover</th>\n",
       "      <th>wind_speed_10m</th>\n",
       "      <th>surface_pressure</th>\n",
       "      <th>day_rating</th>\n",
       "    </tr>\n",
       "    <tr>\n",
       "      <th>date</th>\n",
       "      <th></th>\n",
       "      <th></th>\n",
       "      <th></th>\n",
       "      <th></th>\n",
       "      <th></th>\n",
       "      <th></th>\n",
       "      <th></th>\n",
       "      <th></th>\n",
       "      <th></th>\n",
       "      <th></th>\n",
       "      <th></th>\n",
       "      <th></th>\n",
       "      <th></th>\n",
       "    </tr>\n",
       "  </thead>\n",
       "  <tbody>\n",
       "    <tr>\n",
       "      <th>2025-07-12 00:00:00+00:00</th>\n",
       "      <td>2025-07-12 05:26:39</td>\n",
       "      <td>2025-07-12 21:11:59</td>\n",
       "      <td>17.348687</td>\n",
       "      <td>61.50</td>\n",
       "      <td>16.297848</td>\n",
       "      <td>5.875000</td>\n",
       "      <td>0.0</td>\n",
       "      <td>0.0</td>\n",
       "      <td>0.0</td>\n",
       "      <td>49.083333</td>\n",
       "      <td>7.565795</td>\n",
       "      <td>956.893855</td>\n",
       "      <td>4.7</td>\n",
       "    </tr>\n",
       "    <tr>\n",
       "      <th>2025-07-13 00:00:00+00:00</th>\n",
       "      <td>2025-07-13 05:27:39</td>\n",
       "      <td>2025-07-13 21:11:14</td>\n",
       "      <td>18.880167</td>\n",
       "      <td>60.75</td>\n",
       "      <td>18.798526</td>\n",
       "      <td>2.208333</td>\n",
       "      <td>0.0</td>\n",
       "      <td>0.0</td>\n",
       "      <td>0.0</td>\n",
       "      <td>42.333333</td>\n",
       "      <td>3.607636</td>\n",
       "      <td>954.616802</td>\n",
       "      <td>6.1</td>\n",
       "    </tr>\n",
       "    <tr>\n",
       "      <th>2025-07-14 00:00:00+00:00</th>\n",
       "      <td>2025-07-14 05:28:40</td>\n",
       "      <td>2025-07-14 21:10:26</td>\n",
       "      <td>22.105614</td>\n",
       "      <td>58.00</td>\n",
       "      <td>21.528886</td>\n",
       "      <td>12.727273</td>\n",
       "      <td>0.0</td>\n",
       "      <td>0.0</td>\n",
       "      <td>0.0</td>\n",
       "      <td>47.590909</td>\n",
       "      <td>10.958880</td>\n",
       "      <td>955.945861</td>\n",
       "      <td>5.0</td>\n",
       "    </tr>\n",
       "  </tbody>\n",
       "</table>\n",
       "</div>"
      ],
      "text/plain": [
       "                                      sunrise              sunset  \\\n",
       "date                                                                \n",
       "2025-07-12 00:00:00+00:00 2025-07-12 05:26:39 2025-07-12 21:11:59   \n",
       "2025-07-13 00:00:00+00:00 2025-07-13 05:27:39 2025-07-13 21:11:14   \n",
       "2025-07-14 00:00:00+00:00 2025-07-14 05:28:40 2025-07-14 21:10:26   \n",
       "\n",
       "                           temperature_2m  relative_humidity_2m  \\\n",
       "date                                                              \n",
       "2025-07-12 00:00:00+00:00       17.348687                 61.50   \n",
       "2025-07-13 00:00:00+00:00       18.880167                 60.75   \n",
       "2025-07-14 00:00:00+00:00       22.105614                 58.00   \n",
       "\n",
       "                           apparent_temperature  precipitation_probability  \\\n",
       "date                                                                         \n",
       "2025-07-12 00:00:00+00:00             16.297848                   5.875000   \n",
       "2025-07-13 00:00:00+00:00             18.798526                   2.208333   \n",
       "2025-07-14 00:00:00+00:00             21.528886                  12.727273   \n",
       "\n",
       "                           rain  showers  snowfall  cloud_cover  \\\n",
       "date                                                              \n",
       "2025-07-12 00:00:00+00:00   0.0      0.0       0.0    49.083333   \n",
       "2025-07-13 00:00:00+00:00   0.0      0.0       0.0    42.333333   \n",
       "2025-07-14 00:00:00+00:00   0.0      0.0       0.0    47.590909   \n",
       "\n",
       "                           wind_speed_10m  surface_pressure  day_rating  \n",
       "date                                                                     \n",
       "2025-07-12 00:00:00+00:00        7.565795        956.893855         4.7  \n",
       "2025-07-13 00:00:00+00:00        3.607636        954.616802         6.1  \n",
       "2025-07-14 00:00:00+00:00       10.958880        955.945861         5.0  "
      ]
     },
     "execution_count": 7,
     "metadata": {},
     "output_type": "execute_result"
    }
   ],
   "source": [
    "db[\"day_rating\"] = ranks\n",
    "db.tail(3)"
   ]
  },
  {
   "cell_type": "markdown",
   "id": "2194d23b-34a2-4bba-a518-7ac3bb3103df",
   "metadata": {},
   "source": [
    "### Analysis"
   ]
  },
  {
   "cell_type": "code",
   "execution_count": 33,
   "id": "5ef15bcb-5d22-42eb-9b74-e6037935e1dc",
   "metadata": {},
   "outputs": [
    {
     "data": {
      "text/html": [
       "<style type=\"text/css\">\n",
       "#T_e3d6d_row0_col0, #T_e3d6d_row0_col1, #T_e3d6d_row0_col2, #T_e3d6d_row0_col3, #T_e3d6d_row0_col4 {\n",
       "  text-align: center;\n",
       "  font-weight: bold;\n",
       "}\n",
       "</style>\n",
       "<table id=\"T_e3d6d\">\n",
       "  <caption><b>Quick stats for your ratings</b></caption>\n",
       "  <thead>\n",
       "    <tr>\n",
       "      <th id=\"T_e3d6d_level0_col0\" class=\"col_heading level0 col0\" >Mean</th>\n",
       "      <th id=\"T_e3d6d_level0_col1\" class=\"col_heading level0 col1\" >Median</th>\n",
       "      <th id=\"T_e3d6d_level0_col2\" class=\"col_heading level0 col2\" >Standard deviation</th>\n",
       "      <th id=\"T_e3d6d_level0_col3\" class=\"col_heading level0 col3\" >Minimum</th>\n",
       "      <th id=\"T_e3d6d_level0_col4\" class=\"col_heading level0 col4\" >Maximum</th>\n",
       "    </tr>\n",
       "  </thead>\n",
       "  <tbody>\n",
       "    <tr>\n",
       "      <td id=\"T_e3d6d_row0_col0\" class=\"data row0 col0\" >6,32 / 10</td>\n",
       "      <td id=\"T_e3d6d_row0_col1\" class=\"data row0 col1\" >6,3 / 10</td>\n",
       "      <td id=\"T_e3d6d_row0_col2\" class=\"data row0 col2\" >2,02</td>\n",
       "      <td id=\"T_e3d6d_row0_col3\" class=\"data row0 col3\" >2,2 / 10</td>\n",
       "      <td id=\"T_e3d6d_row0_col4\" class=\"data row0 col4\" >10,0 / 10</td>\n",
       "    </tr>\n",
       "  </tbody>\n",
       "</table>\n"
      ],
      "text/plain": [
       "<pandas.io.formats.style.Styler at 0x10fa3afd0>"
      ]
     },
     "execution_count": 33,
     "metadata": {},
     "output_type": "execute_result"
    }
   ],
   "source": [
    "# mean, median, std. deviation\n",
    "srs = (db.day_rating\n",
    "    .describe()\n",
    "    .drop([\"count\",\"25%\",\"50%\",\"75%\"])\n",
    ")\n",
    "srs[\"median\"] = db.day_rating.median()\n",
    "\n",
    "(pd.DataFrame(srs,index=srs.index)\n",
    "    .reindex([\"mean\",\"median\",\"std\",\"min\",\"max\"])\n",
    "    .T\n",
    "    .style\n",
    "    .format(precision=2, decimal=\",\")\n",
    "    .format(lambda x: str(round(x,2)).replace(\".\",\",\") + \" / 10\", subset=[\"mean\", \"median\", \"min\", \"max\"])\n",
    "    .relabel_index([\"Mean\",\"Median\",\"Standard deviation\",\"Minimum\",\"Maximum\"],axis=\"columns\")\n",
    "    .relabel_index([\"Value\"],axis=\"rows\")\n",
    "    .set_properties(**{\"text-align\":\"center\", \"font-weight\": \"bold\"})\n",
    "    .set_caption(\"<b>Quick stats for your ratings</b>\")\n",
    "    .hide(axis=\"index\")  \n",
    ")\n",
    "# + Interpretaion through Chat"
   ]
  },
  {
   "cell_type": "code",
   "execution_count": 9,
   "id": "7cd72548-00f2-40e7-9b1f-614082082b32",
   "metadata": {},
   "outputs": [
    {
     "data": {
      "image/png": "[encoded data removed]",
      "text/plain": [
       "<Figure size 600x200 with 1 Axes>"
      ]
     },
     "metadata": {},
     "output_type": "display_data"
    }
   ],
   "source": [
    "fig, ax = plt.subplots(figsize=(6, 2))\n",
    "ax.boxplot(\n",
    "    db.day_rating,\n",
    "    orientation=\"horizontal\",\n",
    "    medianprops={\"color\":\"green\",\"linewidth\":1.5},\n",
    ")\n",
    "ax.set_xticks(range(0,11))\n",
    "ax.set_yticks([])\n",
    "ax.set_ylim(0.9,1.1)\n",
    "ax.set_title(\"Distribution of the day ratings\", fontweight=\"bold\",fontsize=10);\n",
    "# + Interpretation through chat"
   ]
  },
  {
   "cell_type": "code",
   "execution_count": 10,
   "id": "31147b6e-9d2a-4af8-8911-45c666d3153d",
   "metadata": {},
   "outputs": [],
   "source": [
    "# constant array warning\n",
    "with warnings.catch_warnings(record=True):\n",
    "    corrs = pd.DataFrame(db.drop(columns=\"day_rating\").corrwith(db.day_rating,method=\"spearman\"),columns=[\"Correlation\"])"
   ]
  },
  {
   "cell_type": "code",
   "execution_count": 11,
   "id": "5c368752-5429-45e2-a154-6ef85adbdcec",
   "metadata": {},
   "outputs": [
    {
     "data": {
      "text/html": [
       "<style type=\"text/css\">\n",
       "#T_a343b_row0_col0, #T_a343b_row1_col0, #T_a343b_row2_col0, #T_a343b_row3_col0, #T_a343b_row4_col0, #T_a343b_row5_col0, #T_a343b_row6_col0, #T_a343b_row7_col0, #T_a343b_row8_col0, #T_a343b_row9_col0, #T_a343b_row10_col0 {\n",
       "  text-align: center;\n",
       "  font-weight: bold;\n",
       "}\n",
       "</style>\n",
       "<table id=\"T_a343b\">\n",
       "  <caption><b>Spearman correlation of certain weather conditions with your rankings</b><br><br>*Factors which have not changed dunring the whole obseration time are ommited</caption>\n",
       "  <thead>\n",
       "    <tr>\n",
       "      <th class=\"blank level0\" >&nbsp;</th>\n",
       "      <th id=\"T_a343b_level0_col0\" class=\"col_heading level0 col0\" >Correlation</th>\n",
       "    </tr>\n",
       "    <tr>\n",
       "      <th class=\"index_name level0\" >Factor</th>\n",
       "      <th class=\"blank col0\" >&nbsp;</th>\n",
       "    </tr>\n",
       "  </thead>\n",
       "  <tbody>\n",
       "    <tr>\n",
       "      <th id=\"T_a343b_level0_row0\" class=\"row_heading level0 row0\" >Sunrise</th>\n",
       "      <td id=\"T_a343b_row0_col0\" class=\"data row0 col0\" >-0,06</td>\n",
       "    </tr>\n",
       "    <tr>\n",
       "      <th id=\"T_a343b_level0_row1\" class=\"row_heading level0 row1\" >Sunset</th>\n",
       "      <td id=\"T_a343b_row1_col0\" class=\"data row1 col0\" >-0,06</td>\n",
       "    </tr>\n",
       "    <tr>\n",
       "      <th id=\"T_a343b_level0_row2\" class=\"row_heading level0 row2\" >Temperature 2m</th>\n",
       "      <td id=\"T_a343b_row2_col0\" class=\"data row2 col0\" >0,09</td>\n",
       "    </tr>\n",
       "    <tr>\n",
       "      <th id=\"T_a343b_level0_row3\" class=\"row_heading level0 row3\" >Relative humidity 2m</th>\n",
       "      <td id=\"T_a343b_row3_col0\" class=\"data row3 col0\" >-0,15</td>\n",
       "    </tr>\n",
       "    <tr>\n",
       "      <th id=\"T_a343b_level0_row4\" class=\"row_heading level0 row4\" >Apparent temperature</th>\n",
       "      <td id=\"T_a343b_row4_col0\" class=\"data row4 col0\" >0,08</td>\n",
       "    </tr>\n",
       "    <tr>\n",
       "      <th id=\"T_a343b_level0_row5\" class=\"row_heading level0 row5\" >Precipitation probability</th>\n",
       "      <td id=\"T_a343b_row5_col0\" class=\"data row5 col0\" >-0,11</td>\n",
       "    </tr>\n",
       "    <tr>\n",
       "      <th id=\"T_a343b_level0_row6\" class=\"row_heading level0 row6\" >Rain</th>\n",
       "      <td id=\"T_a343b_row6_col0\" class=\"data row6 col0\" >-0,14</td>\n",
       "    </tr>\n",
       "    <tr>\n",
       "      <th id=\"T_a343b_level0_row7\" class=\"row_heading level0 row7\" >Showers</th>\n",
       "      <td id=\"T_a343b_row7_col0\" class=\"data row7 col0\" >0,06</td>\n",
       "    </tr>\n",
       "    <tr>\n",
       "      <th id=\"T_a343b_level0_row8\" class=\"row_heading level0 row8\" >Cloud cover</th>\n",
       "      <td id=\"T_a343b_row8_col0\" class=\"data row8 col0\" >-0,06</td>\n",
       "    </tr>\n",
       "    <tr>\n",
       "      <th id=\"T_a343b_level0_row9\" class=\"row_heading level0 row9\" >Wind speed 10m</th>\n",
       "      <td id=\"T_a343b_row9_col0\" class=\"data row9 col0\" >-0,28</td>\n",
       "    </tr>\n",
       "    <tr>\n",
       "      <th id=\"T_a343b_level0_row10\" class=\"row_heading level0 row10\" >Surface pressure</th>\n",
       "      <td id=\"T_a343b_row10_col0\" class=\"data row10 col0\" >-0,02</td>\n",
       "    </tr>\n",
       "  </tbody>\n",
       "</table>\n"
      ],
      "text/plain": [
       "<pandas.io.formats.style.Styler at 0x10ba07110>"
      ]
     },
     "execution_count": 11,
     "metadata": {},
     "output_type": "execute_result"
    }
   ],
   "source": [
    "corrs.index.name = \"Factor\"\n",
    "corrs = corrs.dropna()\n",
    "\n",
    "\n",
    "(corrs\n",
    "    .style\n",
    "    .format_index(lambda x: x.replace(\"_\",\" \").capitalize(), axis=\"index\")\n",
    "    .format(lambda x: str(round(x,2)).replace(\".\",\",\"))\n",
    "    .set_properties(**{\"text-align\":\"center\", \"font-weight\": \"bold\"})\n",
    "    .set_caption(\"<b>Spearman correlation of certain weather conditions with your rankings</b><br><br>*Factors which have not changed dunring the whole obseration time are ommited\")\n",
    ")"
   ]
  },
  {
   "cell_type": "code",
   "execution_count": 37,
   "id": "db3e10bd-8db6-4380-a62c-0adc3fa7b7e3",
   "metadata": {},
   "outputs": [
    {
     "data": {
      "image/png": "[encoded data removed]",
      "text/plain": [
       "<Figure size 640x480 with 1 Axes>"
      ]
     },
     "metadata": {},
     "output_type": "display_data"
    }
   ],
   "source": [
    "vals = db.day_rating.value_counts(normalize=True).sort_index().cumsum()\n",
    "\n",
    "ax = plt.subplot()\n",
    "ax.scatter(x=vals.index,y=vals.array,s=10,facecolors=\"green\", edgecolors=\"green\")\n",
    "ax.set_xlim(0,10)\n",
    "ax.set_xticks(np.arange(0,11,1))\n",
    "\n",
    "ax.set_ylim(-0.01,1.01)\n",
    "ax.set_yticks(np.arange(0,1.1,0.1))\n",
    "\n",
    "for pair in vals.rolling(window=2):\n",
    "    if len(pair) != 2: continue\n",
    "    xmin, xmax = pair.index / (10)\n",
    "    y = pair.iloc[0]\n",
    "    ax.axhline(y=y+0.0005,xmin=xmin,xmax=xmax, color=\"green\", linewidth=1)\n",
    "ax.axhline(y=0,xmin=0,xmax=min(vals.index)/10,color=\"green\", linewidth=1);\n",
    "\n",
    "ax.set_title(\"Empirical CDF of the ratings\");"
   ]
  },
  {
   "cell_type": "code",
   "execution_count": 55,
   "id": "6201117d-850c-42f2-822f-6f1e91ec664c",
   "metadata": {},
   "outputs": [
    {
     "data": {
      "image/png": "[encoded data removed]",
      "text/plain": [
       "<Figure size 640x480 with 1 Axes>"
      ]
     },
     "metadata": {},
     "output_type": "display_data"
    }
   ],
   "source": [
    "ewma = db.day_rating.ewm(alpha=0.01).mean()\n",
    "raw_points = db.day_rating\n",
    "\n",
    "ax = plt.subplot()\n",
    "ax.plot(ewma, color=\"green\")\n",
    "ax.scatter(x=raw_points.index,y=raw_points.array,s=10,color=\"blue\")\n",
    "ax.set_ylim(0,10.5)\n",
    "ax.set_yticks(np.arange(0,11,1))\n",
    "ax.tick_params(rotation=45)\n",
    "ax.set_title(\"EWMA over time over raw ratings\");"
   ]
  },
  {
   "cell_type": "code",
   "execution_count": 66,
   "id": "6e069c17-4470-4ade-a689-3c8bffb44315",
   "metadata": {},
   "outputs": [
    {
     "data": {
      "text/plain": [
       "date\n",
       "Friday       6.10\n",
       "Monday       6.00\n",
       "Saturday     7.05\n",
       "Sunday       4.65\n",
       "Thursday     5.90\n",
       "Tuesday      6.70\n",
       "Wednesday    6.50\n",
       "Name: day_rating, dtype: float64"
      ]
     },
     "execution_count": 66,
     "metadata": {},
     "output_type": "execute_result"
    }
   ],
   "source": [
    "mask = db.day_rating.index.strftime(\"%A\")\n",
    "db.day_rating.groupby(mask).median()"
   ]
  },
  {
   "cell_type": "code",
   "execution_count": null,
   "id": "9f1a42bc-3652-489e-8024-45842d1f4edb",
   "metadata": {},
   "outputs": [],
   "source": [
    "for name, data in grouped_by_day:\n",
    "    shape, _, scale = gamma.fit(data)\n",
    "    ci_lower, ci_upper = gamma.interval(0.95,shape,scale)\n",
    "    print(ci_lower, ci_upper)\n",
    "    #gamma_estimates.loc[\"name\"] = [shape, scale, ci_lower, ci_upper]"
   ]
  },
  {
   "cell_type": "code",
   "execution_count": null,
   "id": "cea5b0fa-5ecf-4f29-8058-f9b5fc4ea5ee",
   "metadata": {},
   "outputs": [],
   "source": [
    "# what is going on?\n",
    "from scipy.stats import gamma \n",
    "grouped_by_day = db.groupby(db.index.strftime(\"%A\"))[\"day_rating\"]\n",
    "gamma_estimates = pd.DataFrame(\n",
    "    columns=[\"shape\",\"scale\",\"ci_lower\",\"ci_upper\"],\n",
    "    index=[\"Monday\",\"Tuesday\",\"Wednesday\",\"Thursday\",\"Friday\",\"Saturday\",\"Sunday\"]\n",
    ")"
   ]
  }
 ],
 "metadata": {
  "kernelspec": {
   "display_name": "Python 3 (ipykernel)",
   "language": "python",
   "name": "python3"
  },
  "language_info": {
   "codemirror_mode": {
    "name": "ipython",
    "version": 3
   },
   "file_extension": ".py",
   "mimetype": "text/x-python",
   "name": "python",
   "nbconvert_exporter": "python",
   "pygments_lexer": "ipython3",
   "version": "3.13.3"
  }
 },
 "nbformat": 4,
 "nbformat_minor": 5
}
